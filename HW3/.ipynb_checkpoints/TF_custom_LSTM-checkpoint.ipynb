{
 "cells": [
  {
   "cell_type": "code",
   "execution_count": 1,
   "metadata": {
    "id": "MkjMAsOncC0k"
   },
   "outputs": [
    {
     "name": "stdout",
     "output_type": "stream",
     "text": [
      "WARNING:tensorflow:From C:\\Users\\18135\\AppData\\Local\\Programs\\Python\\Python311\\Lib\\site-packages\\keras\\src\\losses.py:2976: The name tf.losses.sparse_softmax_cross_entropy is deprecated. Please use tf.compat.v1.losses.sparse_softmax_cross_entropy instead.\n",
      "\n"
     ]
    }
   ],
   "source": [
    "import tensorflow as tf\n",
    "from tensorflow import keras\n",
    "# Here we provide a way to create CUSTOM LSTM and how to integrate this with Keras Workflow\n",
    "class CustomLSTMCell(keras.layers.Layer):\n",
    "    def __init__(self, units, **kwargs):\n",
    "        super(CustomLSTMCell, self).__init__(**kwargs)\n",
    "        self.units = units\n",
    "        self.state_size = [units, units]  # Hidden state size and cell state size\n",
    "\n",
    "    def build(self, input_shape):\n",
    "        input_dim = input_shape[-1]\n",
    "        # One can play with init to stabalize learning, remember what we discussed for MLP\n",
    "        # As described in class LSTM is simply 4 different RNNs (h_t = sigma(Wx_t + Uh_{t-1} + b)) working in parallel, but connected jointly.\n",
    "        # Weights for the input gate\n",
    "        self.W_i = self.add_weight(shape=(input_dim, self.units), initializer='random_normal', name='W_i')\n",
    "        self.U_i = self.add_weight(shape=(self.units, self.units), initializer='random_normal', name='U_i')\n",
    "        self.b_i = self.add_weight(shape=(self.units,), initializer='zeros', name='b_i')\n",
    "\n",
    "        # Weights for the forget gate\n",
    "        self.W_f = self.add_weight(shape=(input_dim, self.units), initializer='random_normal', name='W_f')\n",
    "        self.U_f = self.add_weight(shape=(self.units, self.units), initializer='random_normal', name='U_f')\n",
    "        self.b_f = self.add_weight(shape=(self.units,), initializer='zeros', name='b_f')\n",
    "\n",
    "        # Weights for the cell state\n",
    "        self.W_c = self.add_weight(shape=(input_dim, self.units), initializer='random_normal', name='W_c')\n",
    "        self.U_c = self.add_weight(shape=(self.units, self.units), initializer='random_normal', name='U_c')\n",
    "        self.b_c = self.add_weight(shape=(self.units,), initializer='zeros', name='b_c')\n",
    "\n",
    "        # Weights for the output gate\n",
    "        self.W_o = self.add_weight(shape=(input_dim, self.units), initializer='random_normal', name='W_o')\n",
    "        self.U_o = self.add_weight(shape=(self.units, self.units), initializer='random_normal', name='U_o')\n",
    "        self.b_o = self.add_weight(shape=(self.units,), initializer='zeros', name='b_o')\n",
    "\n",
    "        super(CustomLSTMCell, self).build(input_shape)\n",
    "\n",
    "    def call(self, inputs, states):\n",
    "        h_tm1, c_tm1 = states  # Previous state\n",
    "\n",
    "        # Input gate\n",
    "        i = tf.sigmoid(tf.matmul(inputs, self.W_i) + tf.matmul(h_tm1, self.U_i) + self.b_i)\n",
    "\n",
    "        # Forget gate\n",
    "        f = tf.sigmoid(tf.matmul(inputs, self.W_f) + tf.matmul(h_tm1, self.U_f) + self.b_f)\n",
    "\n",
    "        # Cell state\n",
    "        c_ = tf.tanh(tf.matmul(inputs, self.W_c) + tf.matmul(h_tm1, self.U_c) + self.b_c)\n",
    "        c = f * c_tm1 + i * c_\n",
    "\n",
    "        # Output gate\n",
    "        o = tf.sigmoid(tf.matmul(inputs, self.W_o) + tf.matmul(h_tm1, self.U_o) + self.b_o)\n",
    "\n",
    "        # New hidden state\n",
    "        h = o * tf.tanh(c)\n",
    "\n",
    "        return h, [h, c]\n"
   ]
  },
  {
   "cell_type": "code",
   "execution_count": 2,
   "metadata": {
    "colab": {
     "base_uri": "https://localhost:8080/"
    },
    "id": "eNAfVMTvcFwB",
    "outputId": "009158d1-fb40-4bc3-a203-278aee48c284"
   },
   "outputs": [
    {
     "name": "stdout",
     "output_type": "stream",
     "text": [
      "WARNING:tensorflow:From C:\\Users\\18135\\AppData\\Local\\Programs\\Python\\Python311\\Lib\\site-packages\\keras\\src\\backend.py:873: The name tf.get_default_graph is deprecated. Please use tf.compat.v1.get_default_graph instead.\n",
      "\n",
      "WARNING:tensorflow:From C:\\Users\\18135\\AppData\\Local\\Programs\\Python\\Python311\\Lib\\site-packages\\keras\\src\\optimizers\\__init__.py:309: The name tf.train.Optimizer is deprecated. Please use tf.compat.v1.train.Optimizer instead.\n",
      "\n",
      "Model: \"sequential\"\n",
      "_________________________________________________________________\n",
      " Layer (type)                Output Shape              Param #   \n",
      "=================================================================\n",
      " rnn (RNN)                   (None, 10)                640       \n",
      "                                                                 \n",
      " dense (Dense)               (None, 1)                 11        \n",
      "                                                                 \n",
      "=================================================================\n",
      "Total params: 651 (2.54 KB)\n",
      "Trainable params: 651 (2.54 KB)\n",
      "Non-trainable params: 0 (0.00 Byte)\n",
      "_________________________________________________________________\n"
     ]
    }
   ],
   "source": [
    "units = 10  # Number of LSTM units\n",
    "input_shape = (None, 5)  # Example input shape (timesteps, features)\n",
    "\n",
    "# Create the LSTM layer using the custom cell\n",
    "lstm_layer = keras.layers.RNN(CustomLSTMCell(units), input_shape=input_shape)\n",
    "\n",
    "# Create a model using this layer\n",
    "model = keras.Sequential([\n",
    "    lstm_layer,\n",
    "    keras.layers.Dense(1)  # Example output layer\n",
    "])\n",
    "\n",
    "model.compile(optimizer='adam', loss='mean_squared_error')\n",
    "model.summary()\n"
   ]
  }
 ],
 "metadata": {
  "colab": {
   "provenance": []
  },
  "kernelspec": {
   "display_name": "Python 3 (ipykernel)",
   "language": "python",
   "name": "python3"
  },
  "language_info": {
   "codemirror_mode": {
    "name": "ipython",
    "version": 3
   },
   "file_extension": ".py",
   "mimetype": "text/x-python",
   "name": "python",
   "nbconvert_exporter": "python",
   "pygments_lexer": "ipython3",
   "version": "3.11.4"
  }
 },
 "nbformat": 4,
 "nbformat_minor": 4
}
